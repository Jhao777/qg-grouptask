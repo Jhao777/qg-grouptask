{
 "cells": [
  {
   "cell_type": "markdown",
   "id": "e91ed76b",
   "metadata": {},
   "source": [
    "# 谈谈我对最小二乘法的简单理解\n",
    "\n",
    "### 何为线性回归？\n",
    "据我现在了解，线性回归可以简单理解为线性+回归。那么，什么是线性，什么是回归？\n",
    "\n",
    "### **线性**具有两个性质：\n",
    "①**可加性**，又称叠加性\n",
    "$$f(x+y) = f(x) + f(y)$$\n",
    "②**齐次性**，又称均匀性\n",
    "$$f(ax) = af(x),其中，a为与x无关的常数$$\n",
    "对以上两个性质进行结合，我们可以认为：\n",
    "$$f(x,y) = f(ax+by) = af(x) + bf(y)$$\n",
    "### 回归：确定多个变量间相互依赖的定量关系\n",
    "tip：这个概念有点难理解，简单来说：在线性回归中，回归就是预测，需要预测的值是连续值这个点就OK。\n",
    "### 损失函数(误差函数)\n",
    "这个词放在这里有些突兀，但其实这个概念与解决线性回归问题密切相关。\n",
    "我们先来举个例子：但我们需要去总结生活中一些现象时，总会发现有时候总结的东西与现象有一点点出入，这时候，出入就是用来描述损失函数的特点，没错，损失函数就是用来计算我们的预测跟实际的偏差。\n",
    "**导引**：解决回归任务，实际就是找到一条线/超平面来**拟合**这些样本点，使他们之间的**误差尽可能的小。**而不同的线/超平面（不同的参数值）对应着不同的误差，我们需要找到让误差最小的线/超平面。\n",
    "### 描述损失函数常用的公式\n",
    "①均方误差MSE\n",
    "$$MSE = {{1} \\over {m}}\\displaystyle \\sum^{m}_{i=1}{(y_i-\\hat{y_i})^2}$$\n",
    "②均方根误差RMSE\n",
    "$$RMSE = \\sqrt {{{1} \\over {m}}\\displaystyle \\sum^{m}_{i=1}{(y_i-\\hat{y_i})^2}} $$\n",
    "③平均绝对误差\n",
    "$$MAE = {{1} \\over {m}}\\displaystyle \\sum^{m}_{i=1}{|y_i-\\hat{y_i}|}$$\n",
    "④R平方(可觉系数)R-squared\n",
    "$$R^2 = 1-{{MSE(\\hat{y}-y)} \\over {Var(y)}}$$\n",
    "###  最小化损失函数\n",
    "回归任务是拟合样本点，使误差尽可能的小。\n",
    "我们来举个例子：我们凭自己短小的见解去认识现象时，发现好像用自己的认识去解释差别很大，这就好比损失函数，有大有小，那我们接下来讨论的就是，最小化损失函数"
   ]
  },
  {
   "cell_type": "markdown",
   "id": "4e6ab0fb",
   "metadata": {},
   "source": [
    "以一元线性函数为例$$y=kx+b$$采用均方误差MSE作为损失函数，那么损失函数是关于变量k,b的函数\n",
    "    $$L(a,b) = {{1} \\over {m}}\\displaystyle \\sum^{m}_{i=1}{((kx_i+b)-y_i)^2}$$\n",
    "    其中，m为**样本个数**。此时任务为最小化**L(k, b)**。"
   ]
  },
  {
   "cell_type": "markdown",
   "id": "61753bb5",
   "metadata": {},
   "source": [
    "求函数最小值，即求导让导数=0\n",
    "由于这里是两个变量，则求**偏导数**，让**偏导数**=0"
   ]
  },
  {
   "cell_type": "markdown",
   "id": "ada7746b",
   "metadata": {},
   "source": [
    "于是，对其中一个变量**b**求偏导数"
   ]
  },
  {
   "cell_type": "markdown",
   "id": "c48c778a",
   "metadata": {},
   "source": [
    "$${\\partial L \\over \\partial b} = \\sum_{i=1}^m 2(kx_i+b-y_i)=0$$"
   ]
  },
  {
   "cell_type": "markdown",
   "id": "89d3a037",
   "metadata": {},
   "source": [
    "$$\\implies k\\sum_{i=1}^mx_i+\\sum_{i=1}^mb-\\sum_{i=1}^my_i = 0$$"
   ]
  },
  {
   "cell_type": "markdown",
   "id": "c889f8fa",
   "metadata": {},
   "source": [
    "$$\\implies km\\bar{x}+mb-m\\bar{y}=0\\qquad A$$"
   ]
  },
  {
   "cell_type": "markdown",
   "id": "9a38af87",
   "metadata": {},
   "source": [
    "$$\\implies b = \\bar{y} - k\\bar{x}$$"
   ]
  },
  {
   "cell_type": "markdown",
   "id": "d3bd768f",
   "metadata": {},
   "source": [
    "对变量k求偏导数"
   ]
  },
  {
   "cell_type": "markdown",
   "id": "18d47673",
   "metadata": {},
   "source": [
    "$${\\partial L \\over \\partial k} = \\sum_{i=1}^m x_i(kx_i+b-y_i)=0$$"
   ]
  },
  {
   "cell_type": "markdown",
   "id": "c459e79b",
   "metadata": {},
   "source": [
    "$$\\implies k\\sum_{i=1}^mx_i^2+b\\sum_{i=1}^mx_i-\\sum_{i=1}^mx_iy_i = 0$$"
   ]
  },
  {
   "cell_type": "markdown",
   "id": "d9bfa6eb",
   "metadata": {},
   "source": [
    "$$\\implies k\\sum_{i=1}^mx_i^2+mb\\bar{x}-\\sum_{i=1}^mx_iy_i = 0\\qquad B$$"
   ]
  },
  {
   "cell_type": "markdown",
   "id": "ff322d01",
   "metadata": {},
   "source": [
    "$$A * \\bar{x} = km\\bar{x}^2+mb\\bar{x}-m\\bar{y}\\bar{x}=0\\qquad C$$"
   ]
  },
  {
   "cell_type": "markdown",
   "id": "13db5004",
   "metadata": {},
   "source": [
    "$$B - C 得$$"
   ]
  },
  {
   "cell_type": "markdown",
   "id": "a44bfab0",
   "metadata": {},
   "source": [
    "$$\\implies k = {{\\sum_{i=1}^mx_iy_i-m\\bar{x}\\bar{y}} \\over {\\sum_{i=1}^mx_i^2-m\\bar{x}^2}}$$"
   ]
  },
  {
   "cell_type": "markdown",
   "id": "4b398eaa",
   "metadata": {},
   "source": [
    "### 将一元变量推广到多元变量\n",
    "多元函数式为$f(x_1,x_2,x_3,...,x_n) = \\omega_1x_1+\\omega_2x_2+\\omega_3x_3+...+\\omega_nx_n$"
   ]
  },
  {
   "cell_type": "markdown",
   "id": "919730d6",
   "metadata": {},
   "source": [
    "我们使用线性代数的向量概念对其进行整理，记$\\omega_0=b$"
   ]
  },
  {
   "cell_type": "markdown",
   "id": "9e24e815",
   "metadata": {},
   "source": [
    "$$\\omega = \n",
    "\\begin{pmatrix}\n",
    "    \\omega_0\\\\\n",
    "    \\omega_1\\\\\n",
    "    \\vdots\\\\\n",
    "    \\omega_n\\\\\n",
    "\\end{pmatrix}\n",
    "x = \n",
    "\\begin{pmatrix}\n",
    "    x_0\\\\\n",
    "    x_1\\\\\n",
    "    \\vdots\\\\\n",
    "    x_n\\\\\n",
    "\\end{pmatrix}\n",
    "$$"
   ]
  },
  {
   "cell_type": "markdown",
   "id": "e408f285",
   "metadata": {},
   "source": [
    "此时，损失函数可写成:\n",
    "$$L(\\omega,x) = \\sum_{i=1}^m(y_i-\\omega^Tx^{(i)})^2$$"
   ]
  },
  {
   "cell_type": "markdown",
   "id": "31221274",
   "metadata": {},
   "source": [
    "其中，$y_i$为第i个真实值,$x^{(i)}$为第i个样本的特征向量"
   ]
  },
  {
   "cell_type": "markdown",
   "id": "2012d713",
   "metadata": {},
   "source": [
    "此时利用线性代数，把累加号去掉，使得式子更加简洁，方便推导\n",
    "\n",
    "首先，将m个样本标签值堆叠成一个标签向量y"
   ]
  },
  {
   "cell_type": "markdown",
   "id": "a3ecbba6",
   "metadata": {},
   "source": [
    "$$\n",
    "y\n",
    "= \n",
    "\\begin{pmatrix}\n",
    "    y_1\\\\\n",
    "    y_2\\\\\n",
    "    \\vdots\\\\\n",
    "    y_m\\\\\n",
    "\\end{pmatrix}\n",
    "$$"
   ]
  },
  {
   "cell_type": "markdown",
   "id": "5c974d0d",
   "metadata": {},
   "source": [
    "接着，定义样本矩阵X，形状为(m, n+1)，m个样本，n+1个特征（其中第1个特征为1）"
   ]
  },
  {
   "cell_type": "markdown",
   "id": "239ce31d",
   "metadata": {},
   "source": [
    "$$\n",
    "\\begin{pmatrix}\n",
    "    1 & x_1^{(1)} & x_2^{(1)} & \\cdots & x_n^{(1)} \\\\\n",
    "    \\vdots & \\vdots & \\vdots & \\ddots & \\vdots \\\\\n",
    "    1 & x_1^{(m)} & x_2^{(m)} & \\cdots & x_n^{(m)} \\\\\n",
    "\\end{pmatrix}\n",
    "$$"
   ]
  },
  {
   "cell_type": "markdown",
   "id": "5ff5b0fe",
   "metadata": {},
   "source": [
    "那么样本矩阵$X$乘上权重向量$\\omega$\n",
    "\n",
    "可得预测值向量$$\\hat{y}$$"
   ]
  },
  {
   "cell_type": "markdown",
   "id": "66e43de3",
   "metadata": {},
   "source": [
    "$$\n",
    "\\begin{pmatrix}\n",
    "    1 & x_1^{(1)} & x_2^{(1)} & \\cdots & x_n^{(1)} \\\\\n",
    "    \\vdots & \\vdots & \\vdots & \\ddots & \\vdots \\\\\n",
    "    1 & x_1^{(m)} & x_2^{(m)} & \\cdots & x_n^{(m)} \\\\\n",
    "\\end{pmatrix}\n",
    "\\begin{pmatrix}\n",
    "    \\omega_0\\\\\n",
    "    \\vdots\\\\\n",
    "    \\omega_n\\\\\n",
    "\\end{pmatrix}\n",
    "=\n",
    "\\begin{pmatrix}\n",
    "    \\hat{y}_1\\\\\n",
    "    \\vdots\\\\\n",
    "    \\hat{y}_m\\\\\n",
    "\\end{pmatrix}\n",
    "$$\n"
   ]
  },
  {
   "cell_type": "markdown",
   "id": "916b125f",
   "metadata": {},
   "source": [
    "接着化简\n",
    "$$\n",
    "L(\\omega)=\\lVert X\\omega-y \\rVert^2\\\\\n",
    "\\qquad\\qquad\\quad\\quad=(X^T\\omega^T-y^T)(X\\omega-y)\\\\\n",
    "\\qquad\\qquad\\qquad\\qquad\\qquad\\quad=\\omega^TX^TX\\omega-\\omega^TX^Ty-y^TX\\omega+y^Ty\\\\\n",
    "\\qquad\\qquad\\quad\\quad\\quad\\quad=\\omega^TX^TX\\omega-2\\omega^TX^Ty+y^Ty\n",
    "$$"
   ]
  },
  {
   "cell_type": "markdown",
   "id": "43535f19",
   "metadata": {},
   "source": [
    "$$\n",
    "{\\partial L(\\omega) \\over \\partial \\omega}={{\\omega^TX^TX\\omega-2\\omega^TX^Ty+y^Ty} \\over \\partial \\omega}\\\\\n",
    "=2X^TX\\omega-2X^Ty=0\\\\\n",
    "\\implies \\omega = (X^TX)^{-1}X^Ty\n",
    "$$"
   ]
  },
  {
   "cell_type": "markdown",
   "id": "a5355279",
   "metadata": {},
   "source": [
    "此时，$\\omega$已成最简\n",
    "#### 接下来引出波士顿数据集进行回归预测"
   ]
  },
  {
   "cell_type": "markdown",
   "id": "ff6dff6a",
   "metadata": {},
   "source": [
    "1.代码封装"
   ]
  },
  {
   "cell_type": "code",
   "execution_count": 112,
   "id": "d30b4fa9",
   "metadata": {},
   "outputs": [],
   "source": [
    "import numpy as np \n",
    "from sklearn.metrics import r2_score\n",
    "\n",
    "\n",
    "class LinearRepression(object):\n",
    "    def __init__(self):\n",
    "        # 初始化 LinearRepression 模型\n",
    "        self.interception_ = None  # 截距\n",
    "        self.coef_ = None  # 系数\n",
    "        self._theta = None\n",
    "\n",
    "    def fit_normal(self, X_train, y_train):\n",
    "        # 根据训练集 x_train, y_train 训练 linearRepression 模型\n",
    "        X_b = np.hstack([np.ones((len(X_train), 1)), X_train])\n",
    "        self._theta = np.linalg.inv(X_b.T.dot(X_b)).dot(X_b.T).dot(y_train)\n",
    "        self.interception_ = self._theta[0]\n",
    "        self.coef_ = self._theta[1:]\n",
    "        return self\n",
    "\n",
    "    def predict(self, X_predict):\n",
    "        assert X_predict.shape[1] == len(self.coef_), \\\n",
    "            'the length of coef_ must be equal to the column of X_predict'\n",
    "        assert self.coef_ is not None and self.interception_ is not None, \\\n",
    "            \"coef_ and interception cant' be None\"\n",
    "        X_b = np.hstack([np.ones((len(X_predict), 1)), X_predict])\n",
    "        return X_b.dot(self._theta)\n",
    "\n",
    "    def score(self, X_test, y_test):\n",
    "        y_predict = self.predict(X_test)\n",
    "        return r2_score(y_predict, y_test)\n",
    "\n",
    "    def __repr__(self):\n",
    "        return \"LinearRepression()\""
   ]
  },
  {
   "cell_type": "code",
   "execution_count": 113,
   "id": "04e50878",
   "metadata": {},
   "outputs": [],
   "source": [
    "import numpy as np\n",
    "import matplotlib.pyplot as plt\n",
    "from sklearn import datasets"
   ]
  },
  {
   "cell_type": "code",
   "execution_count": 114,
   "id": "d7f4fd49",
   "metadata": {},
   "outputs": [],
   "source": [
    "boston = datasets.load_boston()"
   ]
  },
  {
   "cell_type": "code",
   "execution_count": 115,
   "id": "7ac3409a",
   "metadata": {},
   "outputs": [],
   "source": [
    "X = boston.data\n",
    "y = boston.target"
   ]
  },
  {
   "cell_type": "code",
   "execution_count": 116,
   "id": "390accdf",
   "metadata": {},
   "outputs": [],
   "source": [
    "from sklearn.model_selection import train_test_split"
   ]
  },
  {
   "cell_type": "code",
   "execution_count": 117,
   "id": "032892ab",
   "metadata": {},
   "outputs": [],
   "source": [
    "X_train, X_test, y_train, y_test = train_test_split(\n",
    "    X, y, test_size=0.2, random_state=888)"
   ]
  },
  {
   "cell_type": "code",
   "execution_count": 118,
   "id": "d2f8711b",
   "metadata": {},
   "outputs": [],
   "source": [
    "reg = LinearRepression()"
   ]
  },
  {
   "cell_type": "code",
   "execution_count": 119,
   "id": "c9925ec6",
   "metadata": {},
   "outputs": [
    {
     "data": {
      "text/plain": [
       "LinearRepression()"
      ]
     },
     "execution_count": 119,
     "metadata": {},
     "output_type": "execute_result"
    }
   ],
   "source": [
    "reg.fit_normal(X_train, y_train)"
   ]
  },
  {
   "cell_type": "code",
   "execution_count": 120,
   "id": "027e0de7",
   "metadata": {},
   "outputs": [
    {
     "data": {
      "text/plain": [
       "array([-1.19007229e-01,  3.64055815e-02,  1.68552680e-02,  2.29397031e+00,\n",
       "       -1.60706448e+01,  3.72371469e+00,  9.22765437e-03, -1.30674803e+00,\n",
       "        3.43072685e-01, -1.45830386e-02, -9.73486692e-01,  7.89797436e-03,\n",
       "       -5.72555056e-01])"
      ]
     },
     "execution_count": 120,
     "metadata": {},
     "output_type": "execute_result"
    }
   ],
   "source": [
    "reg.coef_"
   ]
  },
  {
   "cell_type": "markdown",
   "id": "c3d4a919",
   "metadata": {},
   "source": [
    "以上求出$\\omega$系数"
   ]
  },
  {
   "cell_type": "code",
   "execution_count": 121,
   "id": "b6af40c8",
   "metadata": {},
   "outputs": [
    {
     "data": {
      "text/plain": [
       "37.100613538134596"
      ]
     },
     "execution_count": 121,
     "metadata": {},
     "output_type": "execute_result"
    }
   ],
   "source": [
    "reg.interception_"
   ]
  },
  {
   "cell_type": "markdown",
   "id": "253d7358",
   "metadata": {},
   "source": [
    "以上求出截距$b$"
   ]
  },
  {
   "cell_type": "code",
   "execution_count": 122,
   "id": "09fbad7d",
   "metadata": {},
   "outputs": [
    {
     "data": {
      "text/plain": [
       "0.728658184387332"
      ]
     },
     "execution_count": 122,
     "metadata": {},
     "output_type": "execute_result"
    }
   ],
   "source": [
    "reg.score(X_test, y_test) # 预估"
   ]
  },
  {
   "cell_type": "code",
   "execution_count": 123,
   "id": "fd40a20e",
   "metadata": {
    "scrolled": true
   },
   "outputs": [
    {
     "data": {
      "text/plain": [
       "[<matplotlib.lines.Line2D at 0x7fd03a402eb0>]"
      ]
     },
     "execution_count": 123,
     "metadata": {},
     "output_type": "execute_result"
    },
    {
     "data": {
      "image/png": "[encoded data removed]",
      "text/plain": [
       "<Figure size 432x288 with 1 Axes>"
      ]
     },
     "metadata": {
      "needs_background": "light"
     },
     "output_type": "display_data"
    }
   ],
   "source": [
    "import matplotlib. pyplot as plt\n",
    "%matplotlib inline\n",
    "\n",
    "plt.plot(reg.coef_) #13列每一列的系数图"
   ]
  },
  {
   "cell_type": "markdown",
   "id": "269316b6",
   "metadata": {},
   "source": [
    "2.进行比较"
   ]
  },
  {
   "cell_type": "code",
   "execution_count": 124,
   "id": "b137761c",
   "metadata": {},
   "outputs": [
    {
     "data": {
      "text/plain": [
       "array([22.17123289, 35.55703211, 20.8943971 , 20.19609888, 20.02689174,\n",
       "       21.21700868, 30.82764123, 28.81457412, 24.62625139, 12.51737207,\n",
       "       21.66809395, 26.01419263, 20.34518116, 23.2663366 , 22.11437669,\n",
       "       13.07554361, 17.13768497, 21.97900546, 27.3708199 , 28.01916788,\n",
       "       24.41448177, 34.36001821, 23.94274892, 26.83103321, 33.1323688 ,\n",
       "       13.13104618, 20.66162225, 17.3953725 , 24.90599552, 25.93687134,\n",
       "       25.43031713, 24.81956864, 17.66949657, 13.13904413, 22.14029635,\n",
       "       35.50302904, 16.23087515, 19.89717175, 23.06369597, 20.00735812,\n",
       "       32.84777096, 25.7275347 , 30.95015644, 23.70226829, 21.41232494,\n",
       "       13.11049316, 33.15680287, 20.24535073, -5.21091931, 27.52962052,\n",
       "       25.0985891 , 13.96531508, 14.09019168, 27.38604613, 14.21771639,\n",
       "       25.46457847, 17.74201965, 19.33771417, 35.67022047, 26.05415131,\n",
       "       32.57600176, 24.56533259, 31.75366611, 28.13798769, 31.05895476,\n",
       "       24.53318847, 23.37137553, 30.55484544, 32.28276335, 20.8739582 ,\n",
       "       24.73484582, 19.61125447, 36.94909625, 41.49006389, 23.0520405 ,\n",
       "       18.45466235, 15.93100182, 36.026834  , 14.71237394,  5.08946136,\n",
       "       10.76502268, 30.20968135,  2.2021625 , 26.25917493, 30.30408703,\n",
       "       22.44745919, -0.433392  , 13.18002787, 33.63212884, 14.98805835,\n",
       "       17.08333507, 42.66871032, 23.82307954, 22.52783591, 28.80958572,\n",
       "       20.59345662, 12.73271651, 16.76890465, 26.39741601, 24.49422183,\n",
       "       24.93537084, 43.81773618])"
      ]
     },
     "execution_count": 124,
     "metadata": {},
     "output_type": "execute_result"
    }
   ],
   "source": [
    "reg.predict(X_test)# 预测值"
   ]
  },
  {
   "cell_type": "code",
   "execution_count": 125,
   "id": "29580ec3",
   "metadata": {},
   "outputs": [
    {
     "data": {
      "text/plain": [
       "array([22.4, 32.4, 21.7, 24.5, 16.8, 21.1, 29.4, 28.7, 21.5, 13.6, 21.4,\n",
       "       24.8, 16.8, 19.4, 21.7, 17.2, 17.1, 18.7, 22.3, 25. , 24.4, 34.6,\n",
       "       20.1, 22.3, 26.7, 15.6, 19.5, 14.3, 22.7, 21.6, 25. , 24.7, 17.8,\n",
       "       12.7, 22.7, 46.7, 20.2, 27.1, 25. , 19.9, 32. , 23.2, 32.2, 19.2,\n",
       "       21. , 13.4, 31.6, 16.7,  7. , 24.5, 24.2, 11.5, 10.9, 22. , 15.7,\n",
       "       25.3, 14.9, 15. , 33.4, 28.7, 50. , 25. , 29.9, 26.6, 28.7, 20.5,\n",
       "       23. , 37. , 30.3, 16.2, 22.2, 19.9, 36. , 48.5, 26.4, 19.8, 17.8,\n",
       "       38.7, 11.7, 13.8, 15.2, 30.1,  8.1, 30.1, 24. , 17.8, 13.8,  7.5,\n",
       "       41.3, 20.1, 13.9, 50. , 20.3, 22.6, 25. , 20.5, 12.8, 19.5, 22. ,\n",
       "       19.1, 24.6, 50. ])"
      ]
     },
     "execution_count": 125,
     "metadata": {},
     "output_type": "execute_result"
    }
   ],
   "source": [
    "y_test# 真实值"
   ]
  },
  {
   "cell_type": "code",
   "execution_count": 133,
   "id": "bdd8e479",
   "metadata": {},
   "outputs": [
    {
     "data": {
      "text/plain": [
       "(102, 13)"
      ]
     },
     "execution_count": 133,
     "metadata": {},
     "output_type": "execute_result"
    }
   ],
   "source": [
    "X_test.shape # 得出多少个数据"
   ]
  },
  {
   "cell_type": "code",
   "execution_count": 129,
   "id": "776aeddf",
   "metadata": {},
   "outputs": [],
   "source": [
    "deviation = reg.predict(X_test) - y_test  # 预测值与实际值的偏差"
   ]
  },
  {
   "cell_type": "code",
   "execution_count": 130,
   "id": "dfaecbbe",
   "metadata": {},
   "outputs": [
    {
     "data": {
      "text/plain": [
       "array([-2.28767111e-01,  3.15703211e+00, -8.05602903e-01, -4.30390112e+00,\n",
       "        3.22689174e+00,  1.17008684e-01,  1.42764123e+00,  1.14574124e-01,\n",
       "        3.12625139e+00, -1.08262793e+00,  2.68093954e-01,  1.21419263e+00,\n",
       "        3.54518116e+00,  3.86633660e+00,  4.14376695e-01, -4.12445639e+00,\n",
       "        3.76849680e-02,  3.27900546e+00,  5.07081990e+00,  3.01916788e+00,\n",
       "        1.44817665e-02, -2.39981785e-01,  3.84274892e+00,  4.53103321e+00,\n",
       "        6.43236880e+00, -2.46895382e+00,  1.16162225e+00,  3.09537250e+00,\n",
       "        2.20599552e+00,  4.33687134e+00,  4.30317129e-01,  1.19568635e-01,\n",
       "       -1.30503429e-01,  4.39044130e-01, -5.59703648e-01, -1.11969710e+01,\n",
       "       -3.96912485e+00, -7.20282825e+00, -1.93630403e+00,  1.07358117e-01,\n",
       "        8.47770961e-01,  2.52753470e+00, -1.24984356e+00,  4.50226829e+00,\n",
       "        4.12324937e-01, -2.89506841e-01,  1.55680287e+00,  3.54535073e+00,\n",
       "       -1.22109193e+01,  3.02962052e+00,  8.98589097e-01,  2.46531508e+00,\n",
       "        3.19019168e+00,  5.38604613e+00, -1.48228361e+00,  1.64578470e-01,\n",
       "        2.84201965e+00,  4.33771417e+00,  2.27022047e+00, -2.64584869e+00,\n",
       "       -1.74239982e+01, -4.34667407e-01,  1.85366611e+00,  1.53798769e+00,\n",
       "        2.35895476e+00,  4.03318847e+00,  3.71375528e-01, -6.44515456e+00,\n",
       "        1.98276335e+00,  4.67395820e+00,  2.53484582e+00, -2.88745535e-01,\n",
       "        9.49096254e-01, -7.00993611e+00, -3.34795950e+00, -1.34533765e+00,\n",
       "       -1.86899818e+00, -2.67316600e+00,  3.01237394e+00, -8.71053864e+00,\n",
       "       -4.43497732e+00,  1.09681354e-01, -5.89783750e+00, -3.84082507e+00,\n",
       "        6.30408703e+00,  4.64745919e+00, -1.42333920e+01,  5.68002787e+00,\n",
       "       -7.66787116e+00, -5.11194165e+00,  3.18333507e+00, -7.33128968e+00,\n",
       "        3.52307954e+00, -7.21640914e-02,  3.80958572e+00,  9.34566174e-02,\n",
       "       -6.72834853e-02, -2.73109535e+00,  4.39741601e+00,  5.39422183e+00,\n",
       "        3.35370840e-01, -6.18226382e+00])"
      ]
     },
     "execution_count": 130,
     "metadata": {},
     "output_type": "execute_result"
    }
   ],
   "source": [
    "deviation"
   ]
  },
  {
   "cell_type": "code",
   "execution_count": 131,
   "id": "cef987ab",
   "metadata": {},
   "outputs": [],
   "source": [
    "RMSE = np.sqrt(np.sum(deviation * deviation)) / 102  # RMSE 均方根误差"
   ]
  },
  {
   "cell_type": "code",
   "execution_count": 132,
   "id": "41e2918e",
   "metadata": {},
   "outputs": [
    {
     "data": {
      "text/plain": [
       "0.43277364023316384"
      ]
     },
     "execution_count": 132,
     "metadata": {},
     "output_type": "execute_result"
    }
   ],
   "source": [
    "RMSE"
   ]
  },
  {
   "cell_type": "markdown",
   "id": "37e8f52c",
   "metadata": {},
   "source": [
    "### 综上，可见拟合程度不错，误差比较小"
   ]
  },
  {
   "cell_type": "markdown",
   "id": "9e27e30f",
   "metadata": {},
   "source": [
    "OK！misson complete！\n",
    "$$designed\\; by \\qquad Lin Jhao\\\\\n",
    "from \\qquad Jhao's \\;notebook$$"
   ]
  }
 ],
 "metadata": {
  "kernelspec": {
   "display_name": "Python 3 (ipykernel)",
   "language": "python",
   "name": "python3"
  },
  "language_info": {
   "codemirror_mode": {
    "name": "ipython",
    "version": 3
   },
   "file_extension": ".py",
   "mimetype": "text/x-python",
   "name": "python",
   "nbconvert_exporter": "python",
   "pygments_lexer": "ipython3",
   "version": "3.9.7"
  }
 },
 "nbformat": 4,
 "nbformat_minor": 5
}
